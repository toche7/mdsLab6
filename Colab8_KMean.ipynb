{
  "cells": [
    {
      "cell_type": "markdown",
      "metadata": {
        "id": "view-in-github",
        "colab_type": "text"
      },
      "source": [
        "<a href=\"https://colab.research.google.com/github/toche7/mdsLab6/blob/main/Colab8_KMean.ipynb\" target=\"_parent\"><img src=\"https://colab.research.google.com/assets/colab-badge.svg\" alt=\"Open In Colab\"/></a>"
      ]
    },
    {
      "cell_type": "markdown",
      "metadata": {
        "collapsed": false,
        "id": "6h_A_zVUJWct"
      },
      "source": [
        "# Colab 8 K-Mean Clustering\n",
        "ver: 001"
      ]
    },
    {
      "cell_type": "markdown",
      "metadata": {
        "collapsed": false,
        "id": "2ky1aB4WJWcv"
      },
      "source": [
        "\n",
        "อีกประเภทหนึ่งของ Machine Learning ก็คือ Unservised Learning  หรือการเรียนรู้แบบไม่มีผู้สอนโดยในกลุ่มนี้จะไม่ได้มีวัตถุประสงค์ในการทำนายหรือคาดการณ์คำตอบ แต่โดยส่วนใหญ่จะเป็นเรื่องของการเตรียม ข้อมูล อาทิ การแบ่งกลุ่มข้อมูล การลดมิติข้อมูล หรือการตรวจจับความผิดปกติของข้อมูล สำหรับเนื้อหาในบทนี้ในส่วนนี้เราจะยกตัวอย่างโดยการใช้เทคนิค K-mean ในการแบ่งกลุ่มข้อมูลหรือ Clustering  ดังจะได้แสดงให้เห็นดังต่อไปนี้\n"
      ]
    },
    {
      "cell_type": "markdown",
      "metadata": {
        "collapsed": false,
        "id": "S9xwYTiTJWcw"
      },
      "source": [
        "K-mean เป็นเทคนิคในการแบ่งข้อมูลออกเป็นกลุ่ม ๆ โดยจำนวนกลุ่มจะถูกแบ่งออกเป็น K กลุ่มด้วยกัน โดยหลักการของ k-mean นั้นจะใช้เทคนิคการวัดระยะห่าง จากตัวข้อมูลนั้นๆไปยังเจุดศูนย์กลางกลุ่มข้อมูล โดยจำนวนกลุ่มข้อมูลจะต้องมีการกำหนดขึ้นมาก่อนว่าจะมีกี่ตัวอย่างเช่นกำหนดเป็น 2  กลุ่ม k ก็จะเท่ากับ 2 ถ้ากำหนดเป็น 3 กลุ่มเขตก็จะเท่ากับ 3 เป็นต้น"
      ]
    },
    {
      "cell_type": "markdown",
      "metadata": {
        "collapsed": false,
        "id": "eaAl6ryIJWcw"
      },
      "source": [
        "\n",
        "Model Theory\n",
        "https://scikit-learn.org/stable/modules/clustering.html#k-means\n",
        "\n",
        "Library Details\n",
        "https://scikit-learn.org/stable/modules/generated/sklearn.cluster.KMeans.html\n"
      ]
    },
    {
      "cell_type": "markdown",
      "metadata": {
        "collapsed": false,
        "id": "9GaZYy7ZJWcw"
      },
      "source": [
        "```\n",
        "from sklearn.cluster import KMeans\n",
        "kmeans = KMeans(n_clusters=2, random_state=0, n_init=\"auto\").fit(X)\n",
        "kmeans.labels_\n",
        "```\n",
        "\n"
      ]
    },
    {
      "cell_type": "markdown",
      "metadata": {
        "collapsed": false,
        "id": "WAskpQdGJWcw"
      },
      "source": [
        "| Method | Description |\n",
        "| :------------ | :---------------------------------------------------------- |\n",
        "| fit\\(X \\) | ทำการ Train Model เพื่อแบ่ง cluster |\n",
        "|labels_ | รายการ cluster ที่กำกับข้อมูลในแต่ละแถว  |\n",
        "\n",
        "\n"
      ]
    },
    {
      "cell_type": "code",
      "execution_count": null,
      "metadata": {
        "id": "MF8uyj3nJWcw"
      },
      "outputs": [],
      "source": []
    },
    {
      "cell_type": "markdown",
      "metadata": {
        "collapsed": false,
        "id": "fJEjYllwJWcx"
      },
      "source": []
    },
    {
      "cell_type": "markdown",
      "metadata": {
        "collapsed": false,
        "id": "ISLJIWGEJWcx"
      },
      "source": [
        "## 8.1 K-means Clustering of the forest fires\n",
        "\n",
        "ในการทดลองนี้เราจะได้ทำการแบ่งข้อมูลที่ Sensor ที่วัดจากป่าที่ประกอบด้วยค่าอุณหภูมิ (Temperature) ความชื้น (Humidity) และข้อมูลจะประวัติการเกิดไฟไหม้ (Fires) ด้วย แต่ในกรณีนี้เราจะไม่ได้นข้อมูลจะประวัติการเกิดไฟไหม้มาใช้งาน\n",
        "\n",
        "ในการใช้งาน Python กรณีเราต้องใช้ Library ภายนอกมาใช้งานเราต้องทำการนำเข้า Library นั้นด้วยคำสั่ง Import ตาม Cell ด้านล่างนี้\n"
      ]
    },
    {
      "cell_type": "code",
      "execution_count": null,
      "metadata": {
        "id": "sDR1N1BiJWcx"
      },
      "outputs": [],
      "source": [
        "import numpy as np\n",
        "import pandas as pd\n",
        "import matplotlib.pyplot as plt\n"
      ]
    },
    {
      "cell_type": "markdown",
      "metadata": {
        "collapsed": false,
        "id": "7s3T7txfJWcx"
      },
      "source": [
        "###  Load Data\n",
        "\n",
        "ทำการโหลดข้อมูลจากไฟล์ csv ไปเก็บไว้ใน df ซึ่งเป็นข้อมูลประเภท Dataframe ของ library Pandas <br>\n",
        "กรณีที่อยากโหลดข้อมูลจากเวปไซท์โดยตรงแล้วมาเก็บไว้ในเครื่องให้เอา comment ของบรรทัด wget ออกก็จะเป็นการโหลดข้อมูลจากเวปมา save เป็นไฟล์ชื่อว่า forest_fires.csv"
      ]
    },
    {
      "cell_type": "code",
      "execution_count": null,
      "metadata": {
        "id": "Nol3AW05JWcx"
      },
      "outputs": [],
      "source": [
        "#!wget https://raw.githubusercontent.com/adminho/machine-learning/master/Datasets/forest_fires.csv?dl=0 -O forest_fires.csv\n",
        "df = pd.read_csv(\"forest_fires.csv\")"
      ]
    },
    {
      "cell_type": "code",
      "execution_count": null,
      "metadata": {
        "scrolled": true,
        "id": "vw4Ry5Q0JWcy"
      },
      "outputs": [],
      "source": [
        "df.head()"
      ]
    },
    {
      "cell_type": "markdown",
      "metadata": {
        "collapsed": false,
        "id": "1kqzGlYUJWcy"
      },
      "source": [
        "### Plot Graph\n",
        "\n",
        "ทำการ plot graph เพื่อดูการกระจายของข้อมูลด้วยวิธีการ Library Pandas เปรียบเทียบ matplotlib"
      ]
    },
    {
      "cell_type": "markdown",
      "metadata": {
        "collapsed": false,
        "id": "_VDjQVwWJWcy"
      },
      "source": [
        "#### Plot graph using Pandas"
      ]
    },
    {
      "cell_type": "code",
      "execution_count": null,
      "metadata": {
        "id": "rxeRL4JpJWcy"
      },
      "outputs": [],
      "source": [
        "df.plot.scatter(x='Temperature', y='Humidity', c='Red')"
      ]
    },
    {
      "cell_type": "markdown",
      "metadata": {
        "collapsed": false,
        "id": "VkEvD7U8JWcy"
      },
      "source": [
        "### Training K-Means\n",
        "ทำการ clustering ข้อมูลด้วยวิธีการ K-means ด้วย Library Scikit-Learn"
      ]
    },
    {
      "cell_type": "code",
      "execution_count": null,
      "metadata": {
        "id": "FvKmqGJHJWcz"
      },
      "outputs": [],
      "source": [
        "from sklearn.cluster import KMeans\n",
        "import numpy as np\n",
        "X = df[['Temperature', 'Humidity']]\n",
        "kmeans = KMeans(n_clusters=2, n_init=10, random_state=0).fit(X)\n",
        "print(\"labels : \",  kmeans.labels_)"
      ]
    },
    {
      "cell_type": "code",
      "execution_count": null,
      "metadata": {
        "id": "QgT1wO6vJWcz"
      },
      "outputs": [],
      "source": [
        "for i, center in enumerate(kmeans.cluster_centers_):\n",
        "  print(\"center %d:\" %i, center)"
      ]
    },
    {
      "cell_type": "code",
      "execution_count": null,
      "metadata": {
        "id": "YROwDkFYJWcz"
      },
      "outputs": [],
      "source": [
        "X['label'] = kmeans.labels_\n",
        "X"
      ]
    },
    {
      "cell_type": "code",
      "execution_count": null,
      "metadata": {
        "id": "qeHOtLBRJWcz"
      },
      "outputs": [],
      "source": [
        "X[X['label'] == 1]['Temperature']"
      ]
    },
    {
      "cell_type": "code",
      "execution_count": null,
      "metadata": {
        "id": "rXn771MYJWcz"
      },
      "outputs": [],
      "source": [
        "plt.plot(X[X['label'] == 1]['Temperature'],X[X['label'] == 1]['Humidity'], '*r')\n",
        "plt.plot(X[X['label'] == 0]['Temperature'],X[X['label'] == 0]['Humidity'], '*b')\n"
      ]
    },
    {
      "cell_type": "code",
      "execution_count": null,
      "metadata": {
        "id": "vYqjYX6XJWcz"
      },
      "outputs": [],
      "source": [
        "X.plot.scatter('Temperature','Humidity', c = 'label', colormap='viridis')"
      ]
    },
    {
      "cell_type": "markdown",
      "metadata": {
        "collapsed": false,
        "id": "oyxqIvVbJWcz"
      },
      "source": [
        "K-Mean Mesurement Matrix"
      ]
    },
    {
      "cell_type": "code",
      "execution_count": null,
      "metadata": {
        "id": "rvKYfLKuJWc0"
      },
      "outputs": [],
      "source": [
        "from sklearn import metrics\n",
        "metrics.silhouette_score(X, kmeans.labels_)"
      ]
    },
    {
      "cell_type": "code",
      "execution_count": null,
      "metadata": {
        "id": "4OIGhMLtJWc0"
      },
      "outputs": [],
      "source": [
        "X"
      ]
    },
    {
      "cell_type": "code",
      "execution_count": null,
      "metadata": {
        "id": "ILO0jWLQJWc0"
      },
      "outputs": [],
      "source": [
        "kmeans.inertia_"
      ]
    },
    {
      "cell_type": "code",
      "execution_count": null,
      "metadata": {
        "id": "f8m9zaknJWc0"
      },
      "outputs": [],
      "source": [
        "kmeans.score(X[['Temperature', 'Humidity']])"
      ]
    },
    {
      "cell_type": "markdown",
      "metadata": {
        "collapsed": false,
        "id": "MvsagdcMJWc0"
      },
      "source": [
        "### 2.4 Elbow method"
      ]
    },
    {
      "cell_type": "code",
      "execution_count": null,
      "metadata": {
        "id": "ZQBVlxt8JWc0"
      },
      "outputs": [],
      "source": [
        "from sklearn import metrics\n",
        "# k means determine k\n",
        "silScore = []\n",
        "cost = []\n",
        "K = range(1,10)\n",
        "X = df[['Temperature', 'Humidity']]\n",
        "for k in K:\n",
        "    kmeanModel = KMeans(n_clusters=k, n_init=10).fit(X)\n",
        "    kmeans = kmeanModel.fit(X)\n",
        "    cost.append(kmeans.inertia_/ X.shape[0])\n",
        "    if k > 1 : silScore.append(metrics.silhouette_score(X, kmeans.labels_))\n",
        "    # print(\"labels : \",  kmeans.labels_)\n",
        "\n",
        "\n",
        "# Plot the elbow\n",
        "plt.plot(K, cost, 'bx-')\n",
        "plt.xlabel('K')\n",
        "plt.ylabel('Cost')\n",
        "plt.title('The Elbow Method showing the optimal K')\n",
        "plt.show()"
      ]
    },
    {
      "cell_type": "code",
      "execution_count": null,
      "metadata": {
        "id": "sWZQH-o9JWc0"
      },
      "outputs": [],
      "source": [
        "# Plot the elbow\n",
        "plt.plot(K[1:], silScore, 'bx-')\n",
        "plt.xlabel('K')\n",
        "plt.ylabel('Silhouette Score')\n",
        "plt.title('Silhouette Score Vs K ')\n",
        "plt.show()"
      ]
    },
    {
      "cell_type": "code",
      "execution_count": null,
      "metadata": {
        "id": "4ivJzBk6JWc0"
      },
      "outputs": [],
      "source": [
        "X"
      ]
    },
    {
      "cell_type": "code",
      "execution_count": null,
      "metadata": {
        "id": "4Llft8XWJWc1"
      },
      "outputs": [],
      "source": [
        "from sklearn.datasets import make_blobs\n",
        "from sklearn.preprocessing import StandardScaler\n",
        "\n",
        "centers = [[1, 1], [-1, -1], [1, -1]]\n",
        "X, labels_true = make_blobs(\n",
        "    n_samples=750, centers=centers, cluster_std=0.4, random_state=0\n",
        ")\n",
        "\n",
        "X = StandardScaler().fit_transform(X)"
      ]
    },
    {
      "cell_type": "code",
      "execution_count": null,
      "metadata": {
        "id": "vx92tmb9JWc1"
      },
      "outputs": [],
      "source": [
        "import matplotlib.pyplot as plt\n",
        "\n",
        "plt.scatter(X[:, 0], X[:, 1])\n",
        "plt.show()"
      ]
    },
    {
      "cell_type": "code",
      "execution_count": null,
      "metadata": {
        "id": "EUxwWIUuJWc1"
      },
      "outputs": [],
      "source": [
        "from sklearn.cluster import KMeans\n",
        "import numpy as np\n",
        "kmeans = KMeans(n_clusters=2, n_init=10, random_state=0).fit(X)\n",
        "print(\"labels : \",  kmeans.labels_)"
      ]
    },
    {
      "cell_type": "code",
      "execution_count": null,
      "metadata": {
        "id": "GAIVn_e3JWc1"
      },
      "outputs": [],
      "source": [
        "\n",
        "cost = []\n",
        "silScore = []\n",
        "K = range(1,10)\n",
        "for k in K:\n",
        "    kmeanModel = KMeans(n_clusters=k, n_init=10).fit(X)\n",
        "    kmeans = kmeanModel.fit(X)\n",
        "    cost.append(kmeans.inertia_/ X.shape[0])\n",
        "    if k > 1 : silScore.append(metrics.silhouette_score(X, kmeans.labels_))\n",
        "    #print(\"labels : \",  kmeans.labels_)\n",
        "\n",
        "\n",
        "# Plot the elbow\n",
        "plt.plot(K, cost, 'bx-')\n",
        "plt.xlabel('K')\n",
        "plt.ylabel('Cost')\n",
        "plt.title('The Elbow Method showing the optimal K')\n",
        "plt.show()"
      ]
    },
    {
      "cell_type": "code",
      "execution_count": null,
      "metadata": {
        "id": "4gFXNNhDJWc1"
      },
      "outputs": [],
      "source": [
        "# Plot the elbow\n",
        "plt.plot(K[1:], silScore, 'bx-')\n",
        "plt.xlabel('K')\n",
        "plt.ylabel('Silhouette Score')\n",
        "plt.title('Silhouette Score Vs K ')\n",
        "plt.show()"
      ]
    },
    {
      "cell_type": "markdown",
      "metadata": {
        "collapsed": false,
        "id": "WOYJvE_YJWc2"
      },
      "source": [
        "### Exercise 1\n",
        "ให้ใช้ข้อมูล ex7data2.mat แบ่งข้อด้วย K-means โดยใช้ Library Scikit-learn กำหนดให้ k = 3 จงคำนวนค่า centroid ของทั้ง 3 cluster"
      ]
    },
    {
      "cell_type": "code",
      "execution_count": null,
      "metadata": {
        "id": "B7GnCAqNJWc2"
      },
      "outputs": [],
      "source": [
        "from sklearn import datasets\n",
        "X, y = datasets.load_iris(return_X_y=True)\n",
        "X.shape, y.shape"
      ]
    },
    {
      "cell_type": "code",
      "execution_count": null,
      "metadata": {
        "id": "kS6Au_L-JWc2"
      },
      "outputs": [],
      "source": [
        "plt.xlabel('a3')\n",
        "plt.ylabel('a4')\n",
        "plt.axis(\"equal\")\n",
        "plt.scatter(X[:,2], X[:,3])"
      ]
    },
    {
      "cell_type": "code",
      "execution_count": null,
      "metadata": {
        "nbgrader": {
          "grade": true,
          "grade_id": "2c63cb",
          "locked": false,
          "points": 1,
          "schema_version": 3,
          "solution": true,
          "task": false
        },
        "id": "F5YD3zGdJWc2"
      },
      "outputs": [],
      "source": [
        "from sklearn.cluster import KMeans\n",
        "### BEGIN SOLUTION\n",
        "\n",
        "data = X # pd.DataFrame(X, columns=['x1', 'x2'])\n",
        "kmeans = KMeans(n_clusters= 3, n_init = 10, random_state= 0).fit(data)\n",
        "\n",
        "### END SOLUTION\n",
        "print(\"labels : \",  kmeans.labels_)\n",
        "for i, center in enumerate(kmeans.cluster_centers_):\n",
        "  print(\"center %d:\" % i, center)"
      ]
    },
    {
      "cell_type": "markdown",
      "metadata": {
        "collapsed": false,
        "id": "N0M-JMzxJWc3"
      },
      "source": [
        "### Exercise 2\n",
        "จาก Exercise 1 จงแสดงกราฟ Cost vs Elbow เพื่อหาค่า k ที่ดีที่สุด"
      ]
    },
    {
      "cell_type": "code",
      "execution_count": null,
      "metadata": {
        "nbgrader": {
          "grade": true,
          "grade_id": "5b2fda",
          "locked": false,
          "points": 1,
          "schema_version": 3,
          "solution": true,
          "task": false
        },
        "id": "brnogRJmJWc3"
      },
      "outputs": [],
      "source": [
        "from scipy.spatial.distance import cdist\n",
        "# k means determine k\n",
        "cost = []\n",
        "silScore = []\n",
        "K = range(2,10)\n",
        "\n",
        "#==============================================\n",
        "### BEGIN SOLUTION\n",
        "for k in K:\n",
        "    kmeanModel = KMeans(n_clusters= k,  n_init = 10).fit(X)\n",
        "    kmeans = kmeanModel.fit(X)\n",
        "    cost.append(sum(np.min(cdist(X, kmeanModel.cluster_centers_, 'euclidean')**2, axis=1)) / X.shape[0])\n",
        "    silScore.append(metrics.silhouette_score(data, kmeans.labels_))\n",
        "### END SOLUTION\n",
        "\n",
        "#==============================================\n",
        "\n",
        "# Plot the elbow\n",
        "plt.plot(K, cost, 'bx-')\n",
        "plt.xlabel('K')\n",
        "plt.ylabel('Cost')\n",
        "plt.title('The Elbow Method showing the optimal k')\n",
        "plt.show()\n",
        "\n",
        "\n",
        "# Plot the elbow\n",
        "plt.plot(K, silScore, 'bx-')\n",
        "plt.xlabel('K')\n",
        "plt.ylabel('Silhouette Score')\n",
        "plt.title('Silhouette Score Vs K ')\n",
        "plt.show()"
      ]
    },
    {
      "cell_type": "code",
      "execution_count": null,
      "metadata": {
        "id": "SxTAb5hEJWc3"
      },
      "outputs": [],
      "source": []
    },
    {
      "cell_type": "code",
      "execution_count": null,
      "metadata": {
        "id": "ObU0RxaYJWc3"
      },
      "outputs": [],
      "source": []
    }
  ],
  "metadata": {
    "kernelspec": {
      "argv": [
        "/usr/bin/python3",
        "-m",
        "ipykernel",
        "--HistoryManager.enabled=False",
        "--matplotlib=inline",
        "-c",
        "%config InlineBackend.figure_formats = set(['retina'])\nimport matplotlib; matplotlib.rcParams['figure.figsize'] = (12, 7)",
        "-f",
        "{connection_file}"
      ],
      "display_name": "Python 3 (system-wide)",
      "env": {},
      "language": "python",
      "metadata": {
        "cocalc": {
          "description": "Python 3 programming language",
          "priority": 100,
          "url": "https://www.python.org/"
        }
      },
      "name": "python3",
      "resource_dir": "/ext/jupyter/kernels/python3"
    },
    "language_info": {
      "codemirror_mode": {
        "name": "ipython",
        "version": 3
      },
      "file_extension": ".py",
      "mimetype": "text/x-python",
      "name": "python",
      "nbconvert_exporter": "python",
      "pygments_lexer": "ipython3",
      "version": "3.10.12"
    },
    "colab": {
      "provenance": [],
      "include_colab_link": true
    }
  },
  "nbformat": 4,
  "nbformat_minor": 0
}